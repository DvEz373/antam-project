{
 "cells": [
  {
   "cell_type": "code",
   "execution_count": 111,
   "metadata": {},
   "outputs": [],
   "source": [
    "import pandas as pd\n",
    "import numpy as np\n",
    "import matplotlib.pyplot as plt\n",
    "from scipy.interpolate import interp1d\n",
    "from sklearn.preprocessing import RobustScaler\n",
    "from sklearn.model_selection import train_test_split\n",
    "from xgboost import XGBRegressor\n",
    "from sklearn.metrics import mean_squared_error, mean_absolute_error\n",
    "import pickle\n",
    "from pymoo.core.problem import ElementwiseProblem\n",
    "from pymoo.algorithms.soo.nonconvex.ga import GA\n",
    "from pymoo.algorithms.moo.nsga2 import NSGA2\n",
    "from pymoo.optimize import minimize"
   ]
  },
  {
   "cell_type": "code",
   "execution_count": 112,
   "metadata": {},
   "outputs": [],
   "source": [
    "df = pd.read_csv(\"merged_table_23-24_with_null.csv\", encoding=\"ISO-8859-1\")"
   ]
  },
  {
   "cell_type": "code",
   "execution_count": 113,
   "metadata": {},
   "outputs": [],
   "source": [
    "df['time'] = pd.to_datetime(df['time'], format='%m/%d/%y %H:%M')"
   ]
  },
  {
   "cell_type": "code",
   "execution_count": 114,
   "metadata": {},
   "outputs": [],
   "source": [
    "# Iterate over the columns with object data type and apply the transformations\n",
    "for column in df.select_dtypes(include=['object']).columns:\n",
    "    df[column] = df[column].str.replace(r'\\s+', '', regex=True)\n",
    "    df[column] = df[column].replace('', np.nan)\n",
    "    df[column] = df[column].astype(float)"
   ]
  },
  {
   "cell_type": "code",
   "execution_count": 115,
   "metadata": {},
   "outputs": [
    {
     "name": "stdout",
     "output_type": "stream",
     "text": [
      "time                   0\n",
      "ni_in               4803\n",
      "fe_in               4802\n",
      "sio2_in             4802\n",
      "cao_in              4802\n",
      "mgo_in              4802\n",
      "al2o3_in            4802\n",
      "fe_ni               4803\n",
      "s_m                 4802\n",
      "bc                  4802\n",
      "loi_in              8782\n",
      "mc_kilnfeed            1\n",
      "fc_coal             6624\n",
      "gcv_coal            6624\n",
      "voltage_pry          779\n",
      "voltage_sec          510\n",
      "current_pry          750\n",
      "current_sec1         503\n",
      "current_sec2         503\n",
      "current_sec3         503\n",
      "load                 498\n",
      "power_factor         811\n",
      "realisasi_beban      498\n",
      "rpm                  745\n",
      "kg_tco              5036\n",
      "charge_kiln          256\n",
      "tdo                    1\n",
      "pry_p                256\n",
      "sec_p                256\n",
      "pry_v                256\n",
      "sec_v                256\n",
      "total_coal           284\n",
      "total_fuel          4934\n",
      "a_f_ratio           2100\n",
      "reductor_consume     743\n",
      "t_tic162            1112\n",
      "t_tic163            1112\n",
      "metal_temp          1179\n",
      "ni_met              1177\n",
      "c_met               1177\n",
      "si_met              1177\n",
      "fe_met              1177\n",
      "s_met               1177\n",
      "ni_slag             1179\n",
      "fe_slag             1179\n",
      "t_kalsin             744\n",
      "pic_161              743\n",
      "loi_kalsin          5873\n",
      "dtype: int64\n"
     ]
    }
   ],
   "source": [
    "print(df.isnull().sum())"
   ]
  },
  {
   "cell_type": "code",
   "execution_count": 116,
   "metadata": {},
   "outputs": [
    {
     "name": "stdout",
     "output_type": "stream",
     "text": [
      "(2511, 48)\n"
     ]
    }
   ],
   "source": [
    "# Define the time ranges\n",
    "start_range1 = pd.to_datetime('2024-07-31 01:00 AM')\n",
    "end_range1 = pd.to_datetime('2024-07-31 03:00 PM')\n",
    "start_range2 = pd.to_datetime('2024-08-01 12:00 AM')\n",
    "end_range2 = pd.to_datetime('2024-11-12 11:00 PM')\n",
    "\n",
    "# Filter the DataFrame to include only the specified time ranges\n",
    "intersection_df = df[((df['time'] >= start_range1) & (df['time'] <= end_range1)) | ((df['time'] >= start_range2) & (df['time'] <= end_range2))]\n",
    "\n",
    "# Display the filtered DataFrame\n",
    "print(intersection_df.shape)"
   ]
  },
  {
   "cell_type": "code",
   "execution_count": 117,
   "metadata": {},
   "outputs": [],
   "source": [
    "# Save the filtered data to a new CSV file (optional)\n",
    "intersection_df.to_csv('filtered_intersection_df.csv', index=False)"
   ]
  },
  {
   "cell_type": "code",
   "execution_count": 118,
   "metadata": {},
   "outputs": [
    {
     "name": "stdout",
     "output_type": "stream",
     "text": [
      "time                   0\n",
      "ni_in                  0\n",
      "fe_in                  0\n",
      "sio2_in                0\n",
      "cao_in                 0\n",
      "mgo_in                 0\n",
      "al2o3_in               0\n",
      "fe_ni                  0\n",
      "s_m                    0\n",
      "bc                     0\n",
      "loi_in              2511\n",
      "mc_kilnfeed            1\n",
      "fc_coal             1815\n",
      "gcv_coal            1815\n",
      "voltage_pry            1\n",
      "voltage_sec            1\n",
      "current_pry            2\n",
      "current_sec1           1\n",
      "current_sec2           1\n",
      "current_sec3           1\n",
      "load                   0\n",
      "power_factor           3\n",
      "realisasi_beban        0\n",
      "rpm                    0\n",
      "kg_tco                23\n",
      "charge_kiln            8\n",
      "tdo                    1\n",
      "pry_p                  8\n",
      "sec_p                  8\n",
      "pry_v                  8\n",
      "sec_v                  8\n",
      "total_coal             8\n",
      "total_fuel             8\n",
      "a_f_ratio            124\n",
      "reductor_consume       0\n",
      "t_tic162               0\n",
      "t_tic163               0\n",
      "metal_temp             3\n",
      "ni_met                 1\n",
      "c_met                  1\n",
      "si_met                 1\n",
      "fe_met                 1\n",
      "s_met                  1\n",
      "ni_slag                3\n",
      "fe_slag                3\n",
      "t_kalsin               0\n",
      "pic_161                0\n",
      "loi_kalsin           825\n",
      "dtype: int64\n"
     ]
    }
   ],
   "source": [
    "print(intersection_df.isnull().sum())"
   ]
  },
  {
   "cell_type": "code",
   "execution_count": 119,
   "metadata": {},
   "outputs": [],
   "source": [
    "input_cols = intersection_df.columns[intersection_df.columns.get_loc('ni_in'):intersection_df.columns.get_loc('t_tic163') + 1]\n",
    "output_cols = intersection_df.columns[intersection_df.columns.get_loc('metal_temp'):intersection_df.columns.get_loc('loi_kalsin') + 1]\n",
    "smelting_cols = intersection_df.columns[intersection_df.columns.get_loc('voltage_pry'):intersection_df.columns.get_loc('realisasi_beban') + 1]"
   ]
  },
  {
   "cell_type": "code",
   "execution_count": 120,
   "metadata": {},
   "outputs": [
    {
     "name": "stderr",
     "output_type": "stream",
     "text": [
      "C:\\Users\\rianr\\AppData\\Local\\Temp\\ipykernel_9176\\3846504361.py:1: SettingWithCopyWarning: \n",
      "A value is trying to be set on a copy of a slice from a DataFrame.\n",
      "Try using .loc[row_indexer,col_indexer] = value instead\n",
      "\n",
      "See the caveats in the documentation: https://pandas.pydata.org/pandas-docs/stable/user_guide/indexing.html#returning-a-view-versus-a-copy\n",
      "  intersection_df[output_cols] = intersection_df[output_cols].shift(-16)\n"
     ]
    }
   ],
   "source": [
    "intersection_df[output_cols] = intersection_df[output_cols].shift(-16)\n",
    "intersection_df = intersection_df.iloc[:-16]\n",
    "\n",
    "# Reset the index\n",
    "intersection_df.reset_index(drop=True, inplace=True)"
   ]
  },
  {
   "cell_type": "code",
   "execution_count": 121,
   "metadata": {},
   "outputs": [],
   "source": [
    "filtered_intersection_df = intersection_df.drop(columns=['loi_in', 'fe_ni', 'sio2_in', 'mgo_in', 'voltage_pry', 'voltage_sec'])\n",
    "input_cols = input_cols.drop(['loi_in', 'fe_ni', 'sio2_in', 'mgo_in', 'voltage_pry', 'voltage_sec'])"
   ]
  },
  {
   "cell_type": "code",
   "execution_count": 122,
   "metadata": {},
   "outputs": [
    {
     "name": "stdout",
     "output_type": "stream",
     "text": [
      "Index(['metal_temp', 'ni_met', 'c_met', 'si_met', 'fe_met', 's_met', 'ni_slag',\n",
      "       'fe_slag', 't_kalsin', 'pic_161', 'loi_kalsin'],\n",
      "      dtype='object')\n"
     ]
    }
   ],
   "source": [
    "print(output_cols)"
   ]
  },
  {
   "cell_type": "code",
   "execution_count": 123,
   "metadata": {},
   "outputs": [
    {
     "name": "stdout",
     "output_type": "stream",
     "text": [
      "time                   0\n",
      "ni_in                  0\n",
      "fe_in                  0\n",
      "cao_in                 0\n",
      "al2o3_in               0\n",
      "s_m                    0\n",
      "bc                     0\n",
      "mc_kilnfeed            1\n",
      "fc_coal             1815\n",
      "gcv_coal            1815\n",
      "current_pry            2\n",
      "current_sec1           1\n",
      "current_sec2           1\n",
      "current_sec3           1\n",
      "load                   0\n",
      "power_factor           3\n",
      "realisasi_beban        0\n",
      "rpm                    0\n",
      "kg_tco                22\n",
      "charge_kiln            8\n",
      "tdo                    1\n",
      "pry_p                  8\n",
      "sec_p                  8\n",
      "pry_v                  8\n",
      "sec_v                  8\n",
      "total_coal             8\n",
      "total_fuel             8\n",
      "a_f_ratio            123\n",
      "reductor_consume       0\n",
      "t_tic162               0\n",
      "t_tic163               0\n",
      "metal_temp             3\n",
      "ni_met                 1\n",
      "c_met                  1\n",
      "si_met                 1\n",
      "fe_met                 1\n",
      "s_met                  1\n",
      "ni_slag                3\n",
      "fe_slag                3\n",
      "t_kalsin               0\n",
      "pic_161                0\n",
      "loi_kalsin           817\n",
      "dtype: int64\n"
     ]
    }
   ],
   "source": [
    "print(filtered_intersection_df.isnull().sum())"
   ]
  },
  {
   "cell_type": "code",
   "execution_count": 124,
   "metadata": {},
   "outputs": [],
   "source": [
    "def interpolate(df, column):\n",
    "    # Convert the index to numerical values for interpolation\n",
    "    x = np.arange(len(df))\n",
    "    y = df[column].values\n",
    "\n",
    "    # Identify the indices of the non-null values\n",
    "    non_null_indices = np.where(~np.isnan(y))[0]\n",
    "\n",
    "    # Perform polynomial interpolation using scipy's interp1d\n",
    "    poly_interp = interp1d(non_null_indices, y[non_null_indices], kind='cubic', fill_value=\"extrapolate\")\n",
    "\n",
    "    # Interpolate the null values\n",
    "    y_interp = poly_interp(x)\n",
    "\n",
    "    # # Create a single figure with two subplots\n",
    "    # plt.figure(figsize=(12, 4))\n",
    "\n",
    "    # # Plot the original data\n",
    "    # plt.subplot(1, 2, 1)  # 1 row, 2 columns, first subplot\n",
    "    # plt.plot(df['time'], y, marker='o', linestyle='-', label='Original Data')\n",
    "    # plt.title('Original Data: ' + column)\n",
    "    # plt.xlabel('Time')\n",
    "    # plt.ylabel(column)\n",
    "    # plt.grid(True)\n",
    "    # plt.legend()\n",
    "\n",
    "    # # Plot the interpolated data\n",
    "    # plt.subplot(1, 2, 2)  # 1 row, 2 columns, second subplot\n",
    "    # plt.plot(df['time'], y, 'o', label='Original Data')\n",
    "    # plt.plot(df['time'], y_interp, '-', label='Interpolated Data')\n",
    "    # plt.title('Interpolated Data: ' + column)\n",
    "    # plt.xlabel('Time')\n",
    "    # plt.ylabel(column)\n",
    "    # plt.grid(True)\n",
    "    # plt.legend()\n",
    "\n",
    "    # # Display the plots\n",
    "    # plt.tight_layout()\n",
    "    # plt.show()\n",
    "\n",
    "    # Update the DataFrame with the interpolated values\n",
    "    df[column] = y_interp"
   ]
  },
  {
   "cell_type": "code",
   "execution_count": 125,
   "metadata": {},
   "outputs": [],
   "source": [
    "for column in filtered_intersection_df.columns:\n",
    "    if filtered_intersection_df[column].isnull().any():\n",
    "        interpolate(filtered_intersection_df, column)"
   ]
  },
  {
   "cell_type": "markdown",
   "metadata": {},
   "source": [
    "### Result"
   ]
  },
  {
   "cell_type": "code",
   "execution_count": 126,
   "metadata": {},
   "outputs": [
    {
     "name": "stdout",
     "output_type": "stream",
     "text": [
      "time                0\n",
      "ni_in               0\n",
      "fe_in               0\n",
      "cao_in              0\n",
      "al2o3_in            0\n",
      "s_m                 0\n",
      "bc                  0\n",
      "mc_kilnfeed         0\n",
      "fc_coal             0\n",
      "gcv_coal            0\n",
      "current_pry         0\n",
      "current_sec1        0\n",
      "current_sec2        0\n",
      "current_sec3        0\n",
      "load                0\n",
      "power_factor        0\n",
      "realisasi_beban     0\n",
      "rpm                 0\n",
      "kg_tco              0\n",
      "charge_kiln         0\n",
      "tdo                 0\n",
      "pry_p               0\n",
      "sec_p               0\n",
      "pry_v               0\n",
      "sec_v               0\n",
      "total_coal          0\n",
      "total_fuel          0\n",
      "a_f_ratio           0\n",
      "reductor_consume    0\n",
      "t_tic162            0\n",
      "t_tic163            0\n",
      "metal_temp          0\n",
      "ni_met              0\n",
      "c_met               0\n",
      "si_met              0\n",
      "fe_met              0\n",
      "s_met               0\n",
      "ni_slag             0\n",
      "fe_slag             0\n",
      "t_kalsin            0\n",
      "pic_161             0\n",
      "loi_kalsin          0\n",
      "dtype: int64\n",
      "(2495, 42)\n"
     ]
    }
   ],
   "source": [
    "print(filtered_intersection_df.isnull().sum())\n",
    "print(filtered_intersection_df.shape)"
   ]
  },
  {
   "cell_type": "code",
   "execution_count": 127,
   "metadata": {},
   "outputs": [
    {
     "name": "stdout",
     "output_type": "stream",
     "text": [
      "                                  min                  max\n",
      "time              2024-07-31 01:00:00  2024-11-12 07:00:00\n",
      "ni_in                            1.33                 2.09\n",
      "fe_in                           11.95                23.62\n",
      "cao_in                           0.36                  3.5\n",
      "al2o3_in                          1.0                 4.24\n",
      "s_m                          1.471361             3.646552\n",
      "bc                           0.292244             0.694697\n",
      "mc_kilnfeed                     12.22                29.16\n",
      "fc_coal                          31.9                 80.0\n",
      "gcv_coal                       5823.4              6987.85\n",
      "current_pry                      -0.0               221.97\n",
      "current_sec1                     -0.0                197.0\n",
      "current_sec2                     -0.0                229.0\n",
      "current_sec3                    -14.8                282.2\n",
      "load                            -22.4                94.82\n",
      "power_factor                     -1.0                  1.0\n",
      "realisasi_beban                   0.0              93.8718\n",
      "rpm                         -0.001485             1.111455\n",
      "kg_tco                           -0.0                363.0\n",
      "charge_kiln                      -0.0               130.79\n",
      "tdo                              -0.0            101.81533\n",
      "pry_p                     -423.952375              22104.0\n",
      "sec_p                           -12.0               2296.0\n",
      "pry_v                      -57.787882               1111.0\n",
      "sec_v                            -3.6               4915.0\n",
      "total_coal                       -0.0               5600.0\n",
      "total_fuel                       -0.0          8577.777778\n",
      "a_f_ratio                 -196.253218           122.065695\n",
      "reductor_consume                  0.0                9.989\n",
      "t_tic162                    30.669662          1077.775391\n",
      "t_tic163                    30.857538           910.463806\n",
      "metal_temp                     1505.0               1595.0\n",
      "ni_met                          12.63                18.62\n",
      "c_met                            1.02                 2.04\n",
      "si_met                           0.01                 1.46\n",
      "fe_met                          78.85               84.237\n",
      "s_met                           0.334                1.796\n",
      "ni_slag                          0.04                  0.1\n",
      "fe_slag                          3.99                 9.89\n",
      "t_kalsin                    29.613049           954.216553\n",
      "pic_161                    -20.521044             1.771069\n",
      "loi_kalsin                       -0.0                  1.3\n"
     ]
    }
   ],
   "source": [
    "min_max_df = filtered_intersection_df.agg(['min', 'max']).transpose()\n",
    "\n",
    "# Display the min and max values for each column\n",
    "print(min_max_df)"
   ]
  },
  {
   "cell_type": "code",
   "execution_count": 128,
   "metadata": {},
   "outputs": [],
   "source": [
    "def remove_outliers_iqr(df, column):\n",
    "    Q1 = df[column].quantile(0.25)\n",
    "    Q3 = df[column].quantile(0.75)\n",
    "    IQR = Q3 - Q1\n",
    "    lower_bound = Q1 - 1.5 * IQR\n",
    "    upper_bound = Q3 + 1.5 * IQR\n",
    "    return df[(df[column] >= lower_bound) & (df[column] <= upper_bound)]"
   ]
  },
  {
   "cell_type": "code",
   "execution_count": 129,
   "metadata": {},
   "outputs": [
    {
     "name": "stdout",
     "output_type": "stream",
     "text": [
      "(1564, 42)\n"
     ]
    }
   ],
   "source": [
    "# Remove outliers from 'total_coal' and 'total_fuel'\n",
    "filtered_intersection_df = remove_outliers_iqr(filtered_intersection_df, 'total_coal')\n",
    "filtered_intersection_df = remove_outliers_iqr(filtered_intersection_df, 'total_fuel')\n",
    "filtered_intersection_df = remove_outliers_iqr(filtered_intersection_df, 'charge_kiln')\n",
    "filtered_intersection_df = remove_outliers_iqr(filtered_intersection_df, 'kg_tco')\n",
    "filtered_intersection_df = remove_outliers_iqr(filtered_intersection_df, 'tdo')\n",
    "filtered_intersection_df = remove_outliers_iqr(filtered_intersection_df, 'current_pry')\n",
    "filtered_intersection_df = remove_outliers_iqr(filtered_intersection_df, 'current_sec1')\n",
    "filtered_intersection_df = remove_outliers_iqr(filtered_intersection_df, 'current_sec2')\n",
    "filtered_intersection_df = remove_outliers_iqr(filtered_intersection_df, 'current_sec3')\n",
    "\n",
    "# Display the shape of the DataFrame after removing outliers\n",
    "print(filtered_intersection_df.shape)"
   ]
  },
  {
   "cell_type": "code",
   "execution_count": 130,
   "metadata": {},
   "outputs": [
    {
     "name": "stdout",
     "output_type": "stream",
     "text": [
      "                                  min                  max\n",
      "time              2024-07-31 01:00:00  2024-11-12 07:00:00\n",
      "ni_in                            1.34                 2.09\n",
      "fe_in                           11.95                23.62\n",
      "cao_in                           0.36                  3.5\n",
      "al2o3_in                          1.0                 3.53\n",
      "s_m                          1.471361             3.646552\n",
      "bc                           0.292244             0.694697\n",
      "mc_kilnfeed                     12.22                29.16\n",
      "fc_coal                          31.9                 80.0\n",
      "gcv_coal                       5823.4              6987.85\n",
      "current_pry                     20.48                23.59\n",
      "current_sec1                     16.8                 25.8\n",
      "current_sec2                     17.0                 26.0\n",
      "current_sec3                     16.9                 25.9\n",
      "load                            -22.4                94.82\n",
      "power_factor                     -1.0                 0.99\n",
      "realisasi_beban                   0.0              93.8718\n",
      "rpm                          -0.00081             1.111455\n",
      "kg_tco                           29.7                 56.7\n",
      "charge_kiln                     72.43               130.79\n",
      "tdo                         57.767658           101.618256\n",
      "pry_p                             7.2                868.4\n",
      "sec_p                             5.8               2296.0\n",
      "pry_v                             0.3               1111.0\n",
      "sec_v                            11.8               4915.0\n",
      "total_coal                     1800.0               5600.0\n",
      "total_fuel                     2100.0               5600.0\n",
      "a_f_ratio                       1.566             82.42125\n",
      "reductor_consume                  0.0                7.858\n",
      "t_tic162                   190.650803          1077.775391\n",
      "t_tic163                   133.041611           872.577698\n",
      "metal_temp                     1505.0               1595.0\n",
      "ni_met                          12.63                18.62\n",
      "c_met                            1.02                 2.04\n",
      "si_met                           0.01                 1.46\n",
      "fe_met                          78.85               84.237\n",
      "s_met                           0.334                1.724\n",
      "ni_slag                          0.04                  0.1\n",
      "fe_slag                           4.2                 9.89\n",
      "t_kalsin                    106.66227           954.216553\n",
      "pic_161                    -17.762028             1.229564\n",
      "loi_kalsin                       -0.0                  1.3\n"
     ]
    }
   ],
   "source": [
    "min_max_df = filtered_intersection_df.agg(['min', 'max']).transpose()\n",
    "\n",
    "# Display the min and max values for each column\n",
    "print(min_max_df)"
   ]
  },
  {
   "cell_type": "code",
   "execution_count": 131,
   "metadata": {},
   "outputs": [],
   "source": [
    "filtered_intersection_df.to_excel('filtered_intersection_df_interpolated.xlsx', index=False)\n",
    "filtered_intersection_df.to_csv('filtered_intersection_df_interpolated.csv', index=False)"
   ]
  },
  {
   "cell_type": "markdown",
   "metadata": {},
   "source": [
    "## Model Training"
   ]
  },
  {
   "cell_type": "code",
   "execution_count": 103,
   "metadata": {},
   "outputs": [
    {
     "name": "stdout",
     "output_type": "stream",
     "text": [
      "(1564, 42)\n"
     ]
    }
   ],
   "source": [
    "data_df = filtered_intersection_df.copy()\n",
    "print(data_df.shape)"
   ]
  },
  {
   "cell_type": "code",
   "execution_count": 104,
   "metadata": {},
   "outputs": [],
   "source": [
    "# Initialize the RobustScaler\n",
    "scaler = RobustScaler()\n",
    "\n",
    "# Apply Robust Scaling to the DataFrame\n",
    "scaled_data = scaler.fit_transform(data_df.drop(columns=['time']))\n",
    "\n",
    "# Convert the scaled data back to a DataFrame\n",
    "scaled_data_df = pd.DataFrame(scaled_data, columns=data_df.drop(columns=['time']).columns)"
   ]
  },
  {
   "cell_type": "code",
   "execution_count": 105,
   "metadata": {},
   "outputs": [],
   "source": [
    "input_cols = scaled_data_df.columns[scaled_data_df.columns.get_loc('ni_in'):scaled_data_df.columns.get_loc('t_tic163') + 1]\n",
    "output_cols = scaled_data_df.columns[scaled_data_df.columns.get_loc('metal_temp'):scaled_data_df.columns.get_loc('loi_kalsin') + 1]"
   ]
  },
  {
   "cell_type": "code",
   "execution_count": 106,
   "metadata": {},
   "outputs": [
    {
     "name": "stdout",
     "output_type": "stream",
     "text": [
      "Split ratio: 90:10\n",
      "Training XGBoost...\n",
      "MSE Table:\n",
      "Model           XGBoost\n",
      "Feature                \n",
      "c_met          0.003208\n",
      "fe_met         0.022630\n",
      "fe_slag        0.143248\n",
      "loi_kalsin     0.032028\n",
      "metal_temp    67.789136\n",
      "ni_met         0.060521\n",
      "ni_slag        0.000021\n",
      "pic_161        1.800694\n",
      "s_met          0.006027\n",
      "si_met         0.002547\n",
      "t_kalsin    1440.409318\n",
      "\n",
      "RMSE Table:\n",
      "Model         XGBoost\n",
      "Feature              \n",
      "c_met        0.056643\n",
      "fe_met       0.150432\n",
      "fe_slag      0.378482\n",
      "loi_kalsin   0.178964\n",
      "metal_temp   8.233416\n",
      "ni_met       0.246010\n",
      "ni_slag      0.004550\n",
      "pic_161      1.341899\n",
      "s_met        0.077636\n",
      "si_met       0.050467\n",
      "t_kalsin    37.952725\n",
      "\n",
      "MAE Table:\n",
      "Model         XGBoost\n",
      "Feature              \n",
      "c_met        0.040135\n",
      "fe_met       0.105521\n",
      "fe_slag      0.255039\n",
      "loi_kalsin   0.105510\n",
      "metal_temp   5.384298\n",
      "ni_met       0.130421\n",
      "ni_slag      0.003283\n",
      "pic_161      0.799523\n",
      "s_met        0.033909\n",
      "si_met       0.035015\n",
      "t_kalsin    27.485651\n"
     ]
    }
   ],
   "source": [
    "# Define split configurations\n",
    "split_ratios = [0.1]\n",
    "\n",
    "# Initialize models\n",
    "models = {\n",
    "    'XGBoost': XGBRegressor(),\n",
    "}\n",
    "\n",
    "# Function to calculate metrics\n",
    "def calculate_metrics(y_true, y_pred):\n",
    "    mse = mean_squared_error(y_true, y_pred, multioutput='uniform_average')  # Average across outputs\n",
    "    rmse = np.sqrt(mse)\n",
    "    mae = mean_absolute_error(y_true, y_pred, multioutput='uniform_average')\n",
    "    return mse, rmse, mae\n",
    "\n",
    "# Iterate over split ratios\n",
    "for test_size in split_ratios:\n",
    "    print(f\"Split ratio: {int((1 - test_size) * 100)}:{int(test_size * 100)}\")\n",
    "    \n",
    "    # Split the data\n",
    "    X = scaled_data_df[input_cols]\n",
    "    y = scaled_data_df[output_cols]\n",
    "    X_train, X_test, y_train, y_test = train_test_split(X, y, test_size=test_size, random_state=42)\n",
    "    \n",
    "    y_train = y_train.values\n",
    "    y_test = y_test.values\n",
    "\n",
    "    # Initialize results for this split ratio\n",
    "    results_mse, results_rmse, results_mae = [], [], []\n",
    "    \n",
    "    # Train each model\n",
    "    for name, model in models.items():\n",
    "        print(f\"Training {name}...\")\n",
    "        model.fit(X_train, y_train)\n",
    "        y_pred = model.predict(X_test)\n",
    "        \n",
    "        # Inverse transform y_test and y_pred to original scale\n",
    "        y_test_original = scaler.inverse_transform(np.hstack([X_test, y_test]))[:, len(input_cols):]\n",
    "        y_pred_original = scaler.inverse_transform(np.hstack([X_test, y_pred]))[:, len(input_cols):]\n",
    "        \n",
    "        # Calculate metrics for each target\n",
    "        for col_idx, col_name in enumerate(output_cols):\n",
    "            mse = mean_squared_error(y_test_original[:, col_idx], y_pred_original[:, col_idx])\n",
    "            rmse = np.sqrt(mse)\n",
    "            mae = mean_absolute_error(y_test_original[:, col_idx], y_pred_original[:, col_idx])\n",
    "            \n",
    "            # Append results\n",
    "            results_mse.append([name, col_name, mse])\n",
    "            results_rmse.append([name, col_name, rmse])\n",
    "            results_mae.append([name, col_name, mae])\n",
    "\n",
    "        if name == 'XGBoost':\n",
    "            # Save the XGBoost model in pkl format\n",
    "            with open(f'xgboost_model_{int((1 - test_size) * 100)}_{int(test_size * 100)}.pkl', 'wb') as file:\n",
    "                pickle.dump(model, file)\n",
    "    \n",
    "    # Create DataFrames for metrics\n",
    "    mse_df = pd.DataFrame(results_mse, columns=['Model', 'Feature', 'MSE'])\n",
    "    rmse_df = pd.DataFrame(results_rmse, columns=['Model', 'Feature', 'RMSE'])\n",
    "    mae_df = pd.DataFrame(results_mae, columns=['Model', 'Feature', 'MAE'])\n",
    "\n",
    "    # Pivot DataFrames\n",
    "    mse_pivot = mse_df.pivot(index='Feature', columns='Model', values='MSE')\n",
    "    rmse_pivot = rmse_df.pivot(index='Feature', columns='Model', values='RMSE')\n",
    "    mae_pivot = mae_df.pivot(index='Feature', columns='Model', values='MAE')\n",
    "\n",
    "    # Display results\n",
    "    print(\"MSE Table:\")\n",
    "    print(mse_pivot)\n",
    "    print(\"\\nRMSE Table:\")\n",
    "    print(rmse_pivot)\n",
    "    print(\"\\nMAE Table:\")\n",
    "    print(mae_pivot)\n",
    "\n",
    "    # Save results for this split ratio\n",
    "    filename = f'xgb_model_performance_metrics_{int((1 - test_size) * 100)}_{int(test_size * 100)}.xlsx'\n",
    "    with pd.ExcelWriter(filename) as writer:\n",
    "        mse_pivot.to_excel(writer, sheet_name='MSE')\n",
    "        rmse_pivot.to_excel(writer, sheet_name='RMSE')\n",
    "        mae_pivot.to_excel(writer, sheet_name='MAE')"
   ]
  },
  {
   "cell_type": "markdown",
   "metadata": {},
   "source": [
    "## Optimization"
   ]
  },
  {
   "cell_type": "code",
   "execution_count": 107,
   "metadata": {},
   "outputs": [],
   "source": [
    "# Load the XGBoost model from pkl format\n",
    "with open('xgboost_model_90_10.pkl', 'rb') as file:\n",
    "    xgboost_model = pickle.load(file)"
   ]
  },
  {
   "cell_type": "code",
   "execution_count": 108,
   "metadata": {},
   "outputs": [],
   "source": [
    "# Load the CSV file into a DataFrame\n",
    "df = filtered_intersection_df.copy()\n",
    "df = df.drop(columns=['time'])\n",
    "\n",
    "fixed_input_cols = ['ni_in', 'fe_in', 'cao_in', 'al2o3_in', 's_m', 'bc', 'mc_kilnfeed', 'fc_coal', 'gcv_coal', 'kg_tco', 'charge_kiln', 'tdo']"
   ]
  },
  {
   "cell_type": "code",
   "execution_count": 109,
   "metadata": {},
   "outputs": [
    {
     "name": "stdout",
     "output_type": "stream",
     "text": [
      "fixed input cols\n",
      "['ni_in', 'fe_in', 'cao_in', 'al2o3_in', 's_m', 'bc', 'mc_kilnfeed', 'fc_coal', 'gcv_coal', 'kg_tco', 'charge_kiln', 'tdo']\n",
      "input cols\n",
      "Index(['ni_in', 'fe_in', 'cao_in', 'al2o3_in', 's_m', 'bc', 'mc_kilnfeed',\n",
      "       'fc_coal', 'gcv_coal', 'current_pry', 'current_sec1', 'current_sec2',\n",
      "       'current_sec3', 'load', 'power_factor', 'realisasi_beban', 'rpm',\n",
      "       'kg_tco', 'charge_kiln', 'tdo', 'pry_p', 'sec_p', 'pry_v', 'sec_v',\n",
      "       'total_coal', 'total_fuel', 'a_f_ratio', 'reductor_consume', 't_tic162',\n",
      "       't_tic163'],\n",
      "      dtype='object')\n",
      "output cols\n",
      "Index(['metal_temp', 'ni_met', 'c_met', 'si_met', 'fe_met', 's_met', 'ni_slag',\n",
      "       'fe_slag', 't_kalsin', 'pic_161', 'loi_kalsin'],\n",
      "      dtype='object')\n"
     ]
    }
   ],
   "source": [
    "print(\"fixed input cols\")\n",
    "print(fixed_input_cols)\n",
    "print(\"input cols\")\n",
    "print(input_cols)\n",
    "print(\"output cols\")\n",
    "print(output_cols)"
   ]
  },
  {
   "cell_type": "code",
   "execution_count": 110,
   "metadata": {},
   "outputs": [
    {
     "name": "stdout",
     "output_type": "stream",
     "text": [
      "==========================================================================================\n",
      "n_gen  |  n_eval  | n_nds  |     cv_min    |     cv_avg    |      eps      |   indicator  \n",
      "==========================================================================================\n",
      "     1 |      100 |      1 |  4.277824E+03 |  4.326762E+03 |             - |             -\n",
      "     2 |      200 |      1 |  4.277660E+03 |  4.303131E+03 |             - |             -\n",
      "     3 |      300 |      1 |  4.277505E+03 |  4.294420E+03 |             - |             -\n"
     ]
    },
    {
     "ename": "KeyboardInterrupt",
     "evalue": "",
     "output_type": "error",
     "traceback": [
      "\u001b[1;31m---------------------------------------------------------------------------\u001b[0m",
      "\u001b[1;31mKeyboardInterrupt\u001b[0m                         Traceback (most recent call last)",
      "Cell \u001b[1;32mIn[110], line 100\u001b[0m\n\u001b[0;32m     98\u001b[0m \u001b[38;5;66;03m# Run NSGA2 genetic algorithm with history tracking\u001b[39;00m\n\u001b[0;32m     99\u001b[0m algorithm \u001b[38;5;241m=\u001b[39m NSGA2(pop_size\u001b[38;5;241m=\u001b[39m\u001b[38;5;241m100\u001b[39m)\n\u001b[1;32m--> 100\u001b[0m res \u001b[38;5;241m=\u001b[39m \u001b[43mminimize\u001b[49m\u001b[43m(\u001b[49m\u001b[43mproblem\u001b[49m\u001b[43m,\u001b[49m\u001b[43m \u001b[49m\u001b[43malgorithm\u001b[49m\u001b[43m,\u001b[49m\u001b[43m \u001b[49m\u001b[43mtermination\u001b[49m\u001b[38;5;241;43m=\u001b[39;49m\u001b[43m(\u001b[49m\u001b[38;5;124;43m'\u001b[39;49m\u001b[38;5;124;43mn_gen\u001b[39;49m\u001b[38;5;124;43m'\u001b[39;49m\u001b[43m,\u001b[49m\u001b[43m \u001b[49m\u001b[38;5;241;43m200\u001b[39;49m\u001b[43m)\u001b[49m\u001b[43m,\u001b[49m\u001b[43m \u001b[49m\u001b[43mseed\u001b[49m\u001b[38;5;241;43m=\u001b[39;49m\u001b[38;5;241;43m1\u001b[39;49m\u001b[43m,\u001b[49m\u001b[43m \u001b[49m\u001b[43mverbose\u001b[49m\u001b[38;5;241;43m=\u001b[39;49m\u001b[38;5;28;43;01mTrue\u001b[39;49;00m\u001b[43m,\u001b[49m\u001b[43m \u001b[49m\u001b[43msave_history\u001b[49m\u001b[38;5;241;43m=\u001b[39;49m\u001b[38;5;28;43;01mTrue\u001b[39;49;00m\u001b[43m)\u001b[49m\n\u001b[0;32m    102\u001b[0m \u001b[38;5;66;03m# Check if optimization returned a valid result\u001b[39;00m\n\u001b[0;32m    103\u001b[0m optimized_values \u001b[38;5;241m=\u001b[39m \u001b[38;5;28;01mNone\u001b[39;00m\n",
      "File \u001b[1;32mc:\\Users\\rianr\\AppData\\Local\\Programs\\Python\\Python311\\Lib\\site-packages\\pymoo\\optimize.py:67\u001b[0m, in \u001b[0;36mminimize\u001b[1;34m(problem, algorithm, termination, copy_algorithm, copy_termination, **kwargs)\u001b[0m\n\u001b[0;32m     64\u001b[0m     algorithm\u001b[38;5;241m.\u001b[39msetup(problem, \u001b[38;5;241m*\u001b[39m\u001b[38;5;241m*\u001b[39mkwargs)\n\u001b[0;32m     66\u001b[0m \u001b[38;5;66;03m# actually execute the algorithm\u001b[39;00m\n\u001b[1;32m---> 67\u001b[0m res \u001b[38;5;241m=\u001b[39m \u001b[43malgorithm\u001b[49m\u001b[38;5;241;43m.\u001b[39;49m\u001b[43mrun\u001b[49m\u001b[43m(\u001b[49m\u001b[43m)\u001b[49m\n\u001b[0;32m     69\u001b[0m \u001b[38;5;66;03m# store the deep copied algorithm in the result object\u001b[39;00m\n\u001b[0;32m     70\u001b[0m res\u001b[38;5;241m.\u001b[39malgorithm \u001b[38;5;241m=\u001b[39m algorithm\n",
      "File \u001b[1;32mc:\\Users\\rianr\\AppData\\Local\\Programs\\Python\\Python311\\Lib\\site-packages\\pymoo\\core\\algorithm.py:138\u001b[0m, in \u001b[0;36mAlgorithm.run\u001b[1;34m(self)\u001b[0m\n\u001b[0;32m    136\u001b[0m \u001b[38;5;28;01mdef\u001b[39;00m \u001b[38;5;21mrun\u001b[39m(\u001b[38;5;28mself\u001b[39m):\n\u001b[0;32m    137\u001b[0m     \u001b[38;5;28;01mwhile\u001b[39;00m \u001b[38;5;28mself\u001b[39m\u001b[38;5;241m.\u001b[39mhas_next():\n\u001b[1;32m--> 138\u001b[0m         \u001b[38;5;28;43mself\u001b[39;49m\u001b[38;5;241;43m.\u001b[39;49m\u001b[43mnext\u001b[49m\u001b[43m(\u001b[49m\u001b[43m)\u001b[49m\n\u001b[0;32m    139\u001b[0m     \u001b[38;5;28;01mreturn\u001b[39;00m \u001b[38;5;28mself\u001b[39m\u001b[38;5;241m.\u001b[39mresult()\n",
      "File \u001b[1;32mc:\\Users\\rianr\\AppData\\Local\\Programs\\Python\\Python311\\Lib\\site-packages\\pymoo\\core\\algorithm.py:159\u001b[0m, in \u001b[0;36mAlgorithm.next\u001b[1;34m(self)\u001b[0m\n\u001b[0;32m    157\u001b[0m \u001b[38;5;28;01mif\u001b[39;00m infills \u001b[38;5;129;01mis\u001b[39;00m \u001b[38;5;129;01mnot\u001b[39;00m \u001b[38;5;28;01mNone\u001b[39;00m:\n\u001b[0;32m    158\u001b[0m     \u001b[38;5;28mself\u001b[39m\u001b[38;5;241m.\u001b[39mevaluator\u001b[38;5;241m.\u001b[39meval(\u001b[38;5;28mself\u001b[39m\u001b[38;5;241m.\u001b[39mproblem, infills, algorithm\u001b[38;5;241m=\u001b[39m\u001b[38;5;28mself\u001b[39m)\n\u001b[1;32m--> 159\u001b[0m     \u001b[38;5;28;43mself\u001b[39;49m\u001b[38;5;241;43m.\u001b[39;49m\u001b[43madvance\u001b[49m\u001b[43m(\u001b[49m\u001b[43minfills\u001b[49m\u001b[38;5;241;43m=\u001b[39;49m\u001b[43minfills\u001b[49m\u001b[43m)\u001b[49m\n\u001b[0;32m    161\u001b[0m \u001b[38;5;66;03m# if the algorithm does not follow the infill-advance scheme just call advance\u001b[39;00m\n\u001b[0;32m    162\u001b[0m \u001b[38;5;28;01melse\u001b[39;00m:\n\u001b[0;32m    163\u001b[0m     \u001b[38;5;28mself\u001b[39m\u001b[38;5;241m.\u001b[39madvance()\n",
      "File \u001b[1;32mc:\\Users\\rianr\\AppData\\Local\\Programs\\Python\\Python311\\Lib\\site-packages\\pymoo\\core\\algorithm.py:229\u001b[0m, in \u001b[0;36mAlgorithm.advance\u001b[1;34m(self, infills, **kwargs)\u001b[0m\n\u001b[0;32m    227\u001b[0m     \u001b[38;5;66;03m# always advance to the next iteration - except if the algorithm returns False\u001b[39;00m\n\u001b[0;32m    228\u001b[0m     \u001b[38;5;28;01mif\u001b[39;00m val \u001b[38;5;129;01mis\u001b[39;00m \u001b[38;5;28;01mNone\u001b[39;00m \u001b[38;5;129;01mor\u001b[39;00m val:\n\u001b[1;32m--> 229\u001b[0m         \u001b[38;5;28;43mself\u001b[39;49m\u001b[38;5;241;43m.\u001b[39;49m\u001b[43m_post_advance\u001b[49m\u001b[43m(\u001b[49m\u001b[43m)\u001b[49m\n\u001b[0;32m    231\u001b[0m \u001b[38;5;66;03m# if the algorithm has terminated, then do the finalization steps and return the result\u001b[39;00m\n\u001b[0;32m    232\u001b[0m \u001b[38;5;28;01mif\u001b[39;00m \u001b[38;5;28mself\u001b[39m\u001b[38;5;241m.\u001b[39mtermination\u001b[38;5;241m.\u001b[39mhas_terminated():\n",
      "File \u001b[1;32mc:\\Users\\rianr\\AppData\\Local\\Programs\\Python\\Python311\\Lib\\site-packages\\pymoo\\core\\algorithm.py:319\u001b[0m, in \u001b[0;36mAlgorithm._post_advance\u001b[1;34m(self)\u001b[0m\n\u001b[0;32m    316\u001b[0m _hist, _callback, _display \u001b[38;5;241m=\u001b[39m \u001b[38;5;28mself\u001b[39m\u001b[38;5;241m.\u001b[39mhistory, \u001b[38;5;28mself\u001b[39m\u001b[38;5;241m.\u001b[39mcallback, \u001b[38;5;28mself\u001b[39m\u001b[38;5;241m.\u001b[39mdisplay\n\u001b[0;32m    318\u001b[0m \u001b[38;5;28mself\u001b[39m\u001b[38;5;241m.\u001b[39mhistory, \u001b[38;5;28mself\u001b[39m\u001b[38;5;241m.\u001b[39mcallback, \u001b[38;5;28mself\u001b[39m\u001b[38;5;241m.\u001b[39mdisplay \u001b[38;5;241m=\u001b[39m \u001b[38;5;28;01mNone\u001b[39;00m, \u001b[38;5;28;01mNone\u001b[39;00m, \u001b[38;5;28;01mNone\u001b[39;00m\n\u001b[1;32m--> 319\u001b[0m obj \u001b[38;5;241m=\u001b[39m \u001b[43mcopy\u001b[49m\u001b[38;5;241;43m.\u001b[39;49m\u001b[43mdeepcopy\u001b[49m\u001b[43m(\u001b[49m\u001b[38;5;28;43mself\u001b[39;49m\u001b[43m)\u001b[49m\n\u001b[0;32m    321\u001b[0m \u001b[38;5;28mself\u001b[39m\u001b[38;5;241m.\u001b[39mhistory, \u001b[38;5;28mself\u001b[39m\u001b[38;5;241m.\u001b[39mcallback, \u001b[38;5;28mself\u001b[39m\u001b[38;5;241m.\u001b[39mdisplay \u001b[38;5;241m=\u001b[39m _hist, _callback, _display\n\u001b[0;32m    322\u001b[0m \u001b[38;5;28mself\u001b[39m\u001b[38;5;241m.\u001b[39mhistory\u001b[38;5;241m.\u001b[39mappend(obj)\n",
      "File \u001b[1;32mc:\\Users\\rianr\\AppData\\Local\\Programs\\Python\\Python311\\Lib\\copy.py:172\u001b[0m, in \u001b[0;36mdeepcopy\u001b[1;34m(x, memo, _nil)\u001b[0m\n\u001b[0;32m    170\u001b[0m                 y \u001b[38;5;241m=\u001b[39m x\n\u001b[0;32m    171\u001b[0m             \u001b[38;5;28;01melse\u001b[39;00m:\n\u001b[1;32m--> 172\u001b[0m                 y \u001b[38;5;241m=\u001b[39m \u001b[43m_reconstruct\u001b[49m\u001b[43m(\u001b[49m\u001b[43mx\u001b[49m\u001b[43m,\u001b[49m\u001b[43m \u001b[49m\u001b[43mmemo\u001b[49m\u001b[43m,\u001b[49m\u001b[43m \u001b[49m\u001b[38;5;241;43m*\u001b[39;49m\u001b[43mrv\u001b[49m\u001b[43m)\u001b[49m\n\u001b[0;32m    174\u001b[0m \u001b[38;5;66;03m# If is its own copy, don't memoize.\u001b[39;00m\n\u001b[0;32m    175\u001b[0m \u001b[38;5;28;01mif\u001b[39;00m y \u001b[38;5;129;01mis\u001b[39;00m \u001b[38;5;129;01mnot\u001b[39;00m x:\n",
      "File \u001b[1;32mc:\\Users\\rianr\\AppData\\Local\\Programs\\Python\\Python311\\Lib\\copy.py:271\u001b[0m, in \u001b[0;36m_reconstruct\u001b[1;34m(x, memo, func, args, state, listiter, dictiter, deepcopy)\u001b[0m\n\u001b[0;32m    269\u001b[0m \u001b[38;5;28;01mif\u001b[39;00m state \u001b[38;5;129;01mis\u001b[39;00m \u001b[38;5;129;01mnot\u001b[39;00m \u001b[38;5;28;01mNone\u001b[39;00m:\n\u001b[0;32m    270\u001b[0m     \u001b[38;5;28;01mif\u001b[39;00m deep:\n\u001b[1;32m--> 271\u001b[0m         state \u001b[38;5;241m=\u001b[39m \u001b[43mdeepcopy\u001b[49m\u001b[43m(\u001b[49m\u001b[43mstate\u001b[49m\u001b[43m,\u001b[49m\u001b[43m \u001b[49m\u001b[43mmemo\u001b[49m\u001b[43m)\u001b[49m\n\u001b[0;32m    272\u001b[0m     \u001b[38;5;28;01mif\u001b[39;00m \u001b[38;5;28mhasattr\u001b[39m(y, \u001b[38;5;124m'\u001b[39m\u001b[38;5;124m__setstate__\u001b[39m\u001b[38;5;124m'\u001b[39m):\n\u001b[0;32m    273\u001b[0m         y\u001b[38;5;241m.\u001b[39m__setstate__(state)\n",
      "File \u001b[1;32mc:\\Users\\rianr\\AppData\\Local\\Programs\\Python\\Python311\\Lib\\copy.py:146\u001b[0m, in \u001b[0;36mdeepcopy\u001b[1;34m(x, memo, _nil)\u001b[0m\n\u001b[0;32m    144\u001b[0m copier \u001b[38;5;241m=\u001b[39m _deepcopy_dispatch\u001b[38;5;241m.\u001b[39mget(\u001b[38;5;28mcls\u001b[39m)\n\u001b[0;32m    145\u001b[0m \u001b[38;5;28;01mif\u001b[39;00m copier \u001b[38;5;129;01mis\u001b[39;00m \u001b[38;5;129;01mnot\u001b[39;00m \u001b[38;5;28;01mNone\u001b[39;00m:\n\u001b[1;32m--> 146\u001b[0m     y \u001b[38;5;241m=\u001b[39m \u001b[43mcopier\u001b[49m\u001b[43m(\u001b[49m\u001b[43mx\u001b[49m\u001b[43m,\u001b[49m\u001b[43m \u001b[49m\u001b[43mmemo\u001b[49m\u001b[43m)\u001b[49m\n\u001b[0;32m    147\u001b[0m \u001b[38;5;28;01melse\u001b[39;00m:\n\u001b[0;32m    148\u001b[0m     \u001b[38;5;28;01mif\u001b[39;00m \u001b[38;5;28missubclass\u001b[39m(\u001b[38;5;28mcls\u001b[39m, \u001b[38;5;28mtype\u001b[39m):\n",
      "File \u001b[1;32mc:\\Users\\rianr\\AppData\\Local\\Programs\\Python\\Python311\\Lib\\copy.py:231\u001b[0m, in \u001b[0;36m_deepcopy_dict\u001b[1;34m(x, memo, deepcopy)\u001b[0m\n\u001b[0;32m    229\u001b[0m memo[\u001b[38;5;28mid\u001b[39m(x)] \u001b[38;5;241m=\u001b[39m y\n\u001b[0;32m    230\u001b[0m \u001b[38;5;28;01mfor\u001b[39;00m key, value \u001b[38;5;129;01min\u001b[39;00m x\u001b[38;5;241m.\u001b[39mitems():\n\u001b[1;32m--> 231\u001b[0m     y[deepcopy(key, memo)] \u001b[38;5;241m=\u001b[39m \u001b[43mdeepcopy\u001b[49m\u001b[43m(\u001b[49m\u001b[43mvalue\u001b[49m\u001b[43m,\u001b[49m\u001b[43m \u001b[49m\u001b[43mmemo\u001b[49m\u001b[43m)\u001b[49m\n\u001b[0;32m    232\u001b[0m \u001b[38;5;28;01mreturn\u001b[39;00m y\n",
      "File \u001b[1;32mc:\\Users\\rianr\\AppData\\Local\\Programs\\Python\\Python311\\Lib\\copy.py:153\u001b[0m, in \u001b[0;36mdeepcopy\u001b[1;34m(x, memo, _nil)\u001b[0m\n\u001b[0;32m    151\u001b[0m copier \u001b[38;5;241m=\u001b[39m \u001b[38;5;28mgetattr\u001b[39m(x, \u001b[38;5;124m\"\u001b[39m\u001b[38;5;124m__deepcopy__\u001b[39m\u001b[38;5;124m\"\u001b[39m, \u001b[38;5;28;01mNone\u001b[39;00m)\n\u001b[0;32m    152\u001b[0m \u001b[38;5;28;01mif\u001b[39;00m copier \u001b[38;5;129;01mis\u001b[39;00m \u001b[38;5;129;01mnot\u001b[39;00m \u001b[38;5;28;01mNone\u001b[39;00m:\n\u001b[1;32m--> 153\u001b[0m     y \u001b[38;5;241m=\u001b[39m \u001b[43mcopier\u001b[49m\u001b[43m(\u001b[49m\u001b[43mmemo\u001b[49m\u001b[43m)\u001b[49m\n\u001b[0;32m    154\u001b[0m \u001b[38;5;28;01melse\u001b[39;00m:\n\u001b[0;32m    155\u001b[0m     reductor \u001b[38;5;241m=\u001b[39m dispatch_table\u001b[38;5;241m.\u001b[39mget(\u001b[38;5;28mcls\u001b[39m)\n",
      "File \u001b[1;32mc:\\Users\\rianr\\AppData\\Local\\Programs\\Python\\Python311\\Lib\\copy.py:172\u001b[0m, in \u001b[0;36mdeepcopy\u001b[1;34m(x, memo, _nil)\u001b[0m\n\u001b[0;32m    170\u001b[0m                 y \u001b[38;5;241m=\u001b[39m x\n\u001b[0;32m    171\u001b[0m             \u001b[38;5;28;01melse\u001b[39;00m:\n\u001b[1;32m--> 172\u001b[0m                 y \u001b[38;5;241m=\u001b[39m \u001b[43m_reconstruct\u001b[49m\u001b[43m(\u001b[49m\u001b[43mx\u001b[49m\u001b[43m,\u001b[49m\u001b[43m \u001b[49m\u001b[43mmemo\u001b[49m\u001b[43m,\u001b[49m\u001b[43m \u001b[49m\u001b[38;5;241;43m*\u001b[39;49m\u001b[43mrv\u001b[49m\u001b[43m)\u001b[49m\n\u001b[0;32m    174\u001b[0m \u001b[38;5;66;03m# If is its own copy, don't memoize.\u001b[39;00m\n\u001b[0;32m    175\u001b[0m \u001b[38;5;28;01mif\u001b[39;00m y \u001b[38;5;129;01mis\u001b[39;00m \u001b[38;5;129;01mnot\u001b[39;00m x:\n",
      "File \u001b[1;32mc:\\Users\\rianr\\AppData\\Local\\Programs\\Python\\Python311\\Lib\\copy.py:271\u001b[0m, in \u001b[0;36m_reconstruct\u001b[1;34m(x, memo, func, args, state, listiter, dictiter, deepcopy)\u001b[0m\n\u001b[0;32m    269\u001b[0m \u001b[38;5;28;01mif\u001b[39;00m state \u001b[38;5;129;01mis\u001b[39;00m \u001b[38;5;129;01mnot\u001b[39;00m \u001b[38;5;28;01mNone\u001b[39;00m:\n\u001b[0;32m    270\u001b[0m     \u001b[38;5;28;01mif\u001b[39;00m deep:\n\u001b[1;32m--> 271\u001b[0m         state \u001b[38;5;241m=\u001b[39m \u001b[43mdeepcopy\u001b[49m\u001b[43m(\u001b[49m\u001b[43mstate\u001b[49m\u001b[43m,\u001b[49m\u001b[43m \u001b[49m\u001b[43mmemo\u001b[49m\u001b[43m)\u001b[49m\n\u001b[0;32m    272\u001b[0m     \u001b[38;5;28;01mif\u001b[39;00m \u001b[38;5;28mhasattr\u001b[39m(y, \u001b[38;5;124m'\u001b[39m\u001b[38;5;124m__setstate__\u001b[39m\u001b[38;5;124m'\u001b[39m):\n\u001b[0;32m    273\u001b[0m         y\u001b[38;5;241m.\u001b[39m__setstate__(state)\n",
      "File \u001b[1;32mc:\\Users\\rianr\\AppData\\Local\\Programs\\Python\\Python311\\Lib\\copy.py:146\u001b[0m, in \u001b[0;36mdeepcopy\u001b[1;34m(x, memo, _nil)\u001b[0m\n\u001b[0;32m    144\u001b[0m copier \u001b[38;5;241m=\u001b[39m _deepcopy_dispatch\u001b[38;5;241m.\u001b[39mget(\u001b[38;5;28mcls\u001b[39m)\n\u001b[0;32m    145\u001b[0m \u001b[38;5;28;01mif\u001b[39;00m copier \u001b[38;5;129;01mis\u001b[39;00m \u001b[38;5;129;01mnot\u001b[39;00m \u001b[38;5;28;01mNone\u001b[39;00m:\n\u001b[1;32m--> 146\u001b[0m     y \u001b[38;5;241m=\u001b[39m \u001b[43mcopier\u001b[49m\u001b[43m(\u001b[49m\u001b[43mx\u001b[49m\u001b[43m,\u001b[49m\u001b[43m \u001b[49m\u001b[43mmemo\u001b[49m\u001b[43m)\u001b[49m\n\u001b[0;32m    147\u001b[0m \u001b[38;5;28;01melse\u001b[39;00m:\n\u001b[0;32m    148\u001b[0m     \u001b[38;5;28;01mif\u001b[39;00m \u001b[38;5;28missubclass\u001b[39m(\u001b[38;5;28mcls\u001b[39m, \u001b[38;5;28mtype\u001b[39m):\n",
      "File \u001b[1;32mc:\\Users\\rianr\\AppData\\Local\\Programs\\Python\\Python311\\Lib\\copy.py:231\u001b[0m, in \u001b[0;36m_deepcopy_dict\u001b[1;34m(x, memo, deepcopy)\u001b[0m\n\u001b[0;32m    229\u001b[0m memo[\u001b[38;5;28mid\u001b[39m(x)] \u001b[38;5;241m=\u001b[39m y\n\u001b[0;32m    230\u001b[0m \u001b[38;5;28;01mfor\u001b[39;00m key, value \u001b[38;5;129;01min\u001b[39;00m x\u001b[38;5;241m.\u001b[39mitems():\n\u001b[1;32m--> 231\u001b[0m     y[deepcopy(key, memo)] \u001b[38;5;241m=\u001b[39m \u001b[43mdeepcopy\u001b[49m\u001b[43m(\u001b[49m\u001b[43mvalue\u001b[49m\u001b[43m,\u001b[49m\u001b[43m \u001b[49m\u001b[43mmemo\u001b[49m\u001b[43m)\u001b[49m\n\u001b[0;32m    232\u001b[0m \u001b[38;5;28;01mreturn\u001b[39;00m y\n",
      "File \u001b[1;32mc:\\Users\\rianr\\AppData\\Local\\Programs\\Python\\Python311\\Lib\\copy.py:153\u001b[0m, in \u001b[0;36mdeepcopy\u001b[1;34m(x, memo, _nil)\u001b[0m\n\u001b[0;32m    151\u001b[0m copier \u001b[38;5;241m=\u001b[39m \u001b[38;5;28mgetattr\u001b[39m(x, \u001b[38;5;124m\"\u001b[39m\u001b[38;5;124m__deepcopy__\u001b[39m\u001b[38;5;124m\"\u001b[39m, \u001b[38;5;28;01mNone\u001b[39;00m)\n\u001b[0;32m    152\u001b[0m \u001b[38;5;28;01mif\u001b[39;00m copier \u001b[38;5;129;01mis\u001b[39;00m \u001b[38;5;129;01mnot\u001b[39;00m \u001b[38;5;28;01mNone\u001b[39;00m:\n\u001b[1;32m--> 153\u001b[0m     y \u001b[38;5;241m=\u001b[39m \u001b[43mcopier\u001b[49m\u001b[43m(\u001b[49m\u001b[43mmemo\u001b[49m\u001b[43m)\u001b[49m\n\u001b[0;32m    154\u001b[0m \u001b[38;5;28;01melse\u001b[39;00m:\n\u001b[0;32m    155\u001b[0m     reductor \u001b[38;5;241m=\u001b[39m dispatch_table\u001b[38;5;241m.\u001b[39mget(\u001b[38;5;28mcls\u001b[39m)\n",
      "\u001b[1;31mKeyboardInterrupt\u001b[0m: "
     ]
    }
   ],
   "source": [
    "from pymoo.core.problem import ElementwiseProblem\n",
    "from pymoo.algorithms.moo.nsga2 import NSGA2\n",
    "from pymoo.optimize import minimize\n",
    "from sklearn.preprocessing import RobustScaler\n",
    "import pandas as pd\n",
    "import numpy as np\n",
    "\n",
    "class FeNi(ElementwiseProblem):\n",
    "    def __init__(self, xgboost_model, current_condition, scaler_X, scaler_y, input_cols, fixed_input_cols, output_cols, df):\n",
    "        self.xgboost_model = xgboost_model\n",
    "        self.current_condition = current_condition\n",
    "        self.scaler_X = scaler_X\n",
    "        self.scaler_y = scaler_y\n",
    "        self.input_cols = input_cols\n",
    "        self.fixed_input_cols = fixed_input_cols\n",
    "        self.output_cols = output_cols\n",
    "        self.df = df  # Store dataset for min value calculations\n",
    "\n",
    "        # Get min values for constrained columns\n",
    "        self.min_values = df.min()\n",
    "\n",
    "        n_var = len(input_cols) - len(fixed_input_cols)\n",
    "        super().__init__(n_var=n_var, n_obj=2, n_constr=15, xl=0, xu=1)  # Updated constraints count\n",
    "\n",
    "    def _evaluate(self, x, out, *args, **kwargs):\n",
    "        condition = self.current_condition.copy()\n",
    "\n",
    "        # Validate x size\n",
    "        required_vars = len(self.input_cols) - len(self.fixed_input_cols)\n",
    "        if len(x) != required_vars:\n",
    "            raise ValueError(f\"Expected {required_vars} variables, but got {len(x)}\")\n",
    "\n",
    "        # Update condition with optimized variables\n",
    "        var_index = 0\n",
    "        for col in self.input_cols:\n",
    "            if col not in self.fixed_input_cols:\n",
    "                condition[col] = x[var_index]\n",
    "                var_index += 1\n",
    "\n",
    "        # Set min value for constrained columns\n",
    "        constraint_checks = {\n",
    "            'metal_temp': (1300, None),\n",
    "            'ni_met': (17, None),\n",
    "            'c_met': (1, 3),\n",
    "            'si_met': (1, 2),\n",
    "            'fe_met': (0, None),\n",
    "            's_met': (None, 0.4),\n",
    "            'ni_slag': (0, None),\n",
    "            'fe_slag': (0, None),\n",
    "            't_kalsin': (600, None),\n",
    "            'pic_161': (0, None),\n",
    "            'loi_kalsin': (None, 1),\n",
    "        }\n",
    "\n",
    "        for col, (lower, upper) in constraint_checks.items():\n",
    "            if lower is not None and lower <= 0:\n",
    "                condition[col] = self.min_values[col]\n",
    "\n",
    "        # Ensure DataFrame format before transformation\n",
    "        condition_scaled = self.scaler_X.transform(pd.DataFrame([condition[self.input_cols]], columns=self.input_cols))\n",
    "        predicted_output_scaled = self.xgboost_model.predict(condition_scaled)\n",
    "        predicted_output = self.scaler_y.inverse_transform(predicted_output_scaled)\n",
    "\n",
    "        # Objective: minimize total_coal and total_fuel\n",
    "        total_coal = condition['total_coal']\n",
    "        total_fuel = condition['total_fuel']\n",
    "        out[\"F\"] = [total_coal, total_fuel]\n",
    "\n",
    "        # Constraints\n",
    "        constraints = []\n",
    "        output_values = predicted_output[0]\n",
    "\n",
    "        for col, (lower, upper) in constraint_checks.items():\n",
    "            value = output_values[self.output_cols.get_loc(col)]\n",
    "            if lower is not None:\n",
    "                constraints.append(value - lower)\n",
    "            if upper is not None:\n",
    "                constraints.append(upper - value)\n",
    "\n",
    "        # Ensure total_coal and total_fuel are at least the dataset minimum\n",
    "        constraints.append(self.min_values[\"total_coal\"] - total_coal)\n",
    "        constraints.append(self.min_values[\"total_fuel\"] - total_fuel)\n",
    "\n",
    "        out[\"G\"] = constraints\n",
    "\n",
    "# Load and preprocess data\n",
    "X = df[input_cols]\n",
    "y = df[output_cols]\n",
    "scaler_X = RobustScaler()\n",
    "scaler_y = RobustScaler()\n",
    "X_scaled = scaler_X.fit_transform(X)\n",
    "y_scaled = scaler_y.fit_transform(y)\n",
    "current_condition = df.sample(n=1).iloc[0]\n",
    "\n",
    "# Define the optimization problem\n",
    "problem = FeNi(xgboost_model, current_condition, scaler_X, scaler_y, input_cols, fixed_input_cols, output_cols, df)\n",
    "\n",
    "# Run NSGA2 genetic algorithm with history tracking\n",
    "algorithm = NSGA2(pop_size=100)\n",
    "res = minimize(problem, algorithm, termination=('n_gen', 200), seed=1, verbose=True, save_history=True)\n",
    "\n",
    "# Check if optimization returned a valid result\n",
    "optimized_values = None\n",
    "if res.X is None:\n",
    "    print(\"Optimization failed or returned no valid result. Selecting fittest individual from last population...\")\n",
    "    \n",
    "    last_population = None\n",
    "    last_fitness = None\n",
    "    \n",
    "    if res.pop is not None:\n",
    "        last_population = np.array([ind.X for ind in res.pop])\n",
    "        last_fitness = np.array([ind.F for ind in res.pop])\n",
    "    elif res.history and len(res.history) > 0:\n",
    "        last_population = np.array([ind.X for ind in res.history[-1].pop])\n",
    "        last_fitness = np.array([ind.F for ind in res.history[-1].pop])\n",
    "    \n",
    "    if last_population is not None:\n",
    "        best_idx = np.argmin(last_fitness.sum(axis=1))\n",
    "        optimized_values = last_population[best_idx]\n",
    "\n",
    "# If we found an optimized solution, process it\n",
    "if optimized_values is not None:\n",
    "    optimized_condition = current_condition.copy()\n",
    "    var_index = 0\n",
    "    for col in input_cols:\n",
    "        if col not in fixed_input_cols:\n",
    "            optimized_condition[col] = optimized_values[var_index]\n",
    "            var_index += 1\n",
    "\n",
    "    # Ensure DataFrame format before transformation\n",
    "    optimized_condition_scaled = scaler_X.transform(pd.DataFrame([optimized_condition[input_cols]], columns=input_cols))\n",
    "    optimized_output_scaled = xgboost_model.predict(optimized_condition_scaled)\n",
    "    optimized_output = scaler_y.inverse_transform(optimized_output_scaled)\n",
    "\n",
    "    for i, col in enumerate(output_cols):\n",
    "        optimized_condition[col] = optimized_output[0][i]\n",
    "\n",
    "    print(\"\\nOptimized Row:\")\n",
    "    print(optimized_condition[input_cols.tolist() + output_cols.tolist()])\n",
    "\n",
    "    # Check for values outside expected range\n",
    "    min_values = df.min()\n",
    "    max_values = df.max()\n",
    "    print(\"\\nColumns outside the min-max range:\")\n",
    "    for col in input_cols.tolist() + output_cols.tolist():\n",
    "        if optimized_condition[col] < min_values[col] or optimized_condition[col] > max_values[col]:\n",
    "            print(f\"{col}: {optimized_condition[col]} (Min: {min_values[col]}, Max: {max_values[col]})\")\n",
    "else:\n",
    "    print(\"No valid optimized solution found.\")"
   ]
  },
  {
   "cell_type": "code",
   "execution_count": null,
   "metadata": {},
   "outputs": [
    {
     "name": "stdout",
     "output_type": "stream",
     "text": [
      "Index(['ni_in', 'fe_in', 'cao_in', 'al2o3_in', 's_m', 'bc', 'mc_kilnfeed',\n",
      "       'fc_coal', 'gcv_coal', 'current_pry', 'current_sec1', 'current_sec2',\n",
      "       'current_sec3', 'load', 'power_factor', 'realisasi_beban', 'rpm',\n",
      "       'kg_tco', 'charge_kiln', 'tdo', 'pry_p', 'sec_p', 'pry_v', 'sec_v',\n",
      "       'total_coal', 'total_fuel', 'a_f_ratio', 'reductor_consume', 't_tic162',\n",
      "       't_tic163'],\n",
      "      dtype='object')\n"
     ]
    }
   ],
   "source": [
    "print(input_cols)"
   ]
  },
  {
   "cell_type": "code",
   "execution_count": null,
   "metadata": {},
   "outputs": [
    {
     "name": "stdout",
     "output_type": "stream",
     "text": [
      "Index(['ni_in', 'fe_in', 'cao_in', 'al2o3_in', 's_m', 'bc', 'mc_kilnfeed',\n",
      "       'fc_coal', 'gcv_coal', 'current_pry', 'current_sec1', 'current_sec2',\n",
      "       'current_sec3', 'load', 'power_factor', 'realisasi_beban', 'rpm',\n",
      "       'kg_tco', 'charge_kiln', 'tdo', 'pry_p', 'sec_p', 'pry_v', 'sec_v',\n",
      "       'total_coal', 'total_fuel', 'a_f_ratio', 'reductor_consume', 't_tic162',\n",
      "       't_tic163', 'metal_temp', 'ni_met', 'c_met', 'si_met', 'fe_met',\n",
      "       's_met', 'ni_slag', 'fe_slag', 't_kalsin', 'pic_161', 'loi_kalsin'],\n",
      "      dtype='object')\n"
     ]
    }
   ],
   "source": [
    "print(df.columns)"
   ]
  },
  {
   "cell_type": "code",
   "execution_count": null,
   "metadata": {},
   "outputs": [],
   "source": []
  }
 ],
 "metadata": {
  "kernelspec": {
   "display_name": "Python 3",
   "language": "python",
   "name": "python3"
  },
  "language_info": {
   "codemirror_mode": {
    "name": "ipython",
    "version": 3
   },
   "file_extension": ".py",
   "mimetype": "text/x-python",
   "name": "python",
   "nbconvert_exporter": "python",
   "pygments_lexer": "ipython3",
   "version": "3.11.2"
  }
 },
 "nbformat": 4,
 "nbformat_minor": 2
}
